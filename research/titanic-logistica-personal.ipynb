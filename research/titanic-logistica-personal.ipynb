{
 "cells": [
  {
   "cell_type": "code",
   "execution_count": null,
   "id": "0b4b97f0",
   "metadata": {},
   "outputs": [],
   "source": [
    "from sklearn.model_selection import train_test_split\n",
    "from sklearn.metrics import confusion_matrix"
   ]
  },
  {
   "cell_type": "code",
   "execution_count": null,
   "id": "59051477",
   "metadata": {},
   "outputs": [],
   "source": [
    "import pandas as pd\n",
    "import numpy as np"
   ]
  },
  {
   "cell_type": "code",
   "execution_count": null,
   "id": "c93dab83",
   "metadata": {},
   "outputs": [],
   "source": [
    "def sig(z):\n",
    "    t= 1 / (1 + np.exp(-z)) #Si quieres cambiar el tipo de la variable solo usa t.astype(\"tipo de dato que quieres\")\n",
    "    return t"
   ]
  },
  {
   "attachments": {},
   "cell_type": "markdown",
   "id": "d805b45b",
   "metadata": {},
   "source": [
    "def custom_logistic_regression(X, y, alpha, num_iterations):\n",
    "    m, n = X.shape\n",
    "    weights = np.zeros((n, 1))\n",
    "    for i in range(num_iterations):\n",
    "        z = np.dot(X, weights)\n",
    "        h = custom_sigmoid(z)\n",
    "        gradient = np.dot(X.T, (h - y)) / m\n",
    "        weights -= alpha * gradient\n",
    "    return weights"
   ]
  },
  {
   "cell_type": "code",
   "execution_count": null,
   "id": "552c8a1b",
   "metadata": {},
   "outputs": [],
   "source": [
    "# Cargar datos\n",
    "df = pd.read_csv(\"Titanic.csv\")"
   ]
  },
  {
   "cell_type": "code",
   "execution_count": null,
   "id": "d6a8c455",
   "metadata": {},
   "outputs": [],
   "source": [
    "df"
   ]
  },
  {
   "cell_type": "code",
   "execution_count": null,
   "id": "7186105d",
   "metadata": {},
   "outputs": [],
   "source": [
    "# Realiza una limpieza básica de datos\n",
    "df = df.drop(['PassengerId', 'Name', 'Ticket', 'Cabin'], axis=1)  # Elimina columnas no importantes\n",
    "df = df.dropna()  # Elimina filas con valores perdidos"
   ]
  },
  {
   "cell_type": "code",
   "execution_count": null,
   "id": "6584e35c",
   "metadata": {},
   "outputs": [],
   "source": [
    "# Crea variables dummy para las columnas categóricas\n",
    "df = pd.get_dummies(df, columns=['Sex', 'Embarked'])"
   ]
  },
  {
   "cell_type": "code",
   "execution_count": null,
   "id": "7c469f2b",
   "metadata": {},
   "outputs": [],
   "source": [
    "df"
   ]
  },
  {
   "cell_type": "code",
   "execution_count": null,
   "id": "d452de0e",
   "metadata": {},
   "outputs": [],
   "source": [
    "X = df.drop('Survived', axis=1)"
   ]
  },
  {
   "cell_type": "code",
   "execution_count": null,
   "id": "d1f6dfb5",
   "metadata": {},
   "outputs": [],
   "source": [
    "X"
   ]
  },
  {
   "cell_type": "code",
   "execution_count": null,
   "id": "f398225d",
   "metadata": {},
   "outputs": [],
   "source": [
    "y = df['Survived']"
   ]
  },
  {
   "cell_type": "code",
   "execution_count": null,
   "id": "075084c9",
   "metadata": {},
   "outputs": [],
   "source": [
    "y"
   ]
  },
  {
   "cell_type": "code",
   "execution_count": null,
   "id": "92f39374",
   "metadata": {},
   "outputs": [],
   "source": [
    "X_train, X_test, y_train, y_test = train_test_split(X, y, test_size=0.2, random_state=0)"
   ]
  },
  {
   "cell_type": "code",
   "execution_count": null,
   "id": "cd0758a8",
   "metadata": {},
   "outputs": [],
   "source": [
    "y_train"
   ]
  },
  {
   "cell_type": "code",
   "execution_count": null,
   "id": "4ddc8664",
   "metadata": {},
   "outputs": [],
   "source": [
    "X_train"
   ]
  },
  {
   "cell_type": "code",
   "execution_count": null,
   "id": "408bb5d7",
   "metadata": {},
   "outputs": [],
   "source": [
    "# Entrena un modelo de regresión logística utilizando la función logística personalizada\n",
    "theta = np.zeros(X_train.shape[1]) #Vector de 10 elementos\n",
    "alpha = 0.01\n",
    "num_iters = 10000"
   ]
  },
  {
   "cell_type": "code",
   "execution_count": null,
   "id": "344c847f",
   "metadata": {},
   "outputs": [],
   "source": [
    "for i in range(0,num_iters):\n",
    "    z = np.dot(X_train, theta)\n",
    "    t=np.ones(568)\n",
    "    for i in range (0,568):\n",
    "        t[i]=z[i]\n",
    "        t[i]=sig(t[i])\n",
    "    gradient = np.dot(X_train.T, (t - y_train)) / y_train.size\n",
    "    theta = theta - alpha * gradient"
   ]
  },
  {
   "cell_type": "code",
   "execution_count": null,
   "id": "3518b141",
   "metadata": {},
   "outputs": [],
   "source": [
    "thetafinalyultimo=theta"
   ]
  },
  {
   "cell_type": "code",
   "execution_count": null,
   "id": "d58a79c5",
   "metadata": {},
   "outputs": [],
   "source": [
    "# Realiza predicciones en el conjunto de prueba\n",
    "z1 = np.dot(X_test, theta)\n",
    "t1=np.ones(143)\n",
    "for i in range (0,143):\n",
    "    t1[i]=z1[i]\n",
    "    t1[i]=sig(t1[i])\n",
    "X_pred = np.round(t1)"
   ]
  },
  {
   "cell_type": "code",
   "execution_count": null,
   "id": "2294aa39",
   "metadata": {},
   "outputs": [],
   "source": [
    "X_pred.shape"
   ]
  },
  {
   "cell_type": "code",
   "execution_count": null,
   "id": "dc63b709",
   "metadata": {},
   "outputs": [],
   "source": [
    "# Calcula la matriz de confusión y el porcentaje de precisión\n",
    "cm = confusion_matrix(y_test, X_pred)\n",
    "accuracy = np.trace(cm) / np.sum(cm)"
   ]
  },
  {
   "cell_type": "code",
   "execution_count": null,
   "id": "f416f246",
   "metadata": {},
   "outputs": [],
   "source": [
    "# Imprime los resultados\n",
    "print('Matriz de confusión:')\n",
    "print(cm)\n",
    "print('Porcentaje de precisión:', accuracy)"
   ]
  },
  {
   "attachments": {},
   "cell_type": "markdown",
   "id": "9768ff22",
   "metadata": {},
   "source": [
    "Red 2"
   ]
  },
  {
   "cell_type": "code",
   "execution_count": null,
   "id": "2b34aee8",
   "metadata": {},
   "outputs": [],
   "source": [
    "from scipy.special import gamma"
   ]
  },
  {
   "cell_type": "code",
   "execution_count": null,
   "id": "28395060",
   "metadata": {},
   "outputs": [],
   "source": [
    "def sig(z):\n",
    "    t= 1 / (1 + np.exp(-z)) #Si quieres cambiar el tipo de la variable solo usa t.astype(\"tipo de dato que quieres\")\n",
    "    return t"
   ]
  },
  {
   "cell_type": "code",
   "execution_count": null,
   "id": "41c8da51",
   "metadata": {},
   "outputs": [],
   "source": [
    "def mitle(t, alpha=0.9999, beta=1):\n",
    "    s=0\n",
    "    for i in range(100):\n",
    "        s+=(t**i)/gamma(alpha*i+beta)\n",
    "    return s"
   ]
  },
  {
   "cell_type": "code",
   "execution_count": null,
   "id": "9811e0fb",
   "metadata": {},
   "outputs": [],
   "source": [
    "def nsig(x,a=0.999,b=1):\n",
    "    y=1/(1+mitle(-x,a,b))\n",
    "    return y"
   ]
  },
  {
   "cell_type": "code",
   "execution_count": null,
   "id": "d38b768b",
   "metadata": {},
   "outputs": [],
   "source": [
    "# Entrena un modelo de regresión logística utilizando la función logística personalizada\n",
    "theta = np.zeros(X_train.shape[1]) #Vector de 10 elementos\n",
    "alpha = 0.01\n",
    "num_iters = 2"
   ]
  },
  {
   "cell_type": "code",
   "execution_count": null,
   "id": "39224a4f",
   "metadata": {},
   "outputs": [],
   "source": [
    "for i in range(0,num_iters):\n",
    "    z = np.dot(X_train, theta)\n",
    "    t=np.ones(568)\n",
    "    for i in range (0,568):\n",
    "        t[i]=z[i]\n",
    "        t[i]=nsig(t[i],0.3,1)\n",
    "    gradient = np.dot(X_train.T, (t - y_train)) / y_train.size\n",
    "    theta = theta - alpha * gradient"
   ]
  },
  {
   "cell_type": "code",
   "execution_count": null,
   "id": "4bcdde06",
   "metadata": {},
   "outputs": [],
   "source": [
    "theta"
   ]
  },
  {
   "cell_type": "code",
   "execution_count": null,
   "id": "55a678f4",
   "metadata": {},
   "outputs": [],
   "source": [
    "# Realiza predicciones en el conjunto de prueba\n",
    "z1 = np.dot(X_test, theta)\n",
    "t1=np.ones(143)\n",
    "for i in range (0,143):\n",
    "    t1[i]=z1[i]\n",
    "    t1[i]=nsig(t1[i],0.3,1)\n",
    "X_pred = np.round(t1)"
   ]
  },
  {
   "cell_type": "code",
   "execution_count": null,
   "id": "771d9557",
   "metadata": {},
   "outputs": [],
   "source": [
    "X_pred=np.abs(X_pred)"
   ]
  },
  {
   "cell_type": "code",
   "execution_count": null,
   "id": "90a84303",
   "metadata": {},
   "outputs": [],
   "source": [
    "cm = confusion_matrix(y_test, X_pred)\n",
    "accuracy = np.trace(cm) / np.sum(cm)"
   ]
  },
  {
   "cell_type": "code",
   "execution_count": null,
   "id": "c4442ac4",
   "metadata": {},
   "outputs": [],
   "source": [
    "# Imprime los resultados\n",
    "print('Matriz de confusión:')\n",
    "print(cm)\n",
    "print('Porcentaje de precisión:', accuracy)"
   ]
  },
  {
   "cell_type": "code",
   "execution_count": null,
   "id": "67d52040",
   "metadata": {},
   "outputs": [],
   "source": []
  }
 ],
 "metadata": {
  "kernelspec": {
   "display_name": "Python 3 (ipykernel)",
   "language": "python",
   "name": "python3"
  },
  "language_info": {
   "codemirror_mode": {
    "name": "ipython",
    "version": 3
   },
   "file_extension": ".py",
   "mimetype": "text/x-python",
   "name": "python",
   "nbconvert_exporter": "python",
   "pygments_lexer": "ipython3",
   "version": "3.11.3"
  }
 },
 "nbformat": 4,
 "nbformat_minor": 5
}
