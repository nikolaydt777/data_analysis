{
 "cells": [
  {
   "cell_type": "code",
   "execution_count": 228,
   "id": "0b4b97f0",
   "metadata": {},
   "outputs": [],
   "source": [
    "from sklearn.model_selection import train_test_split\n",
    "from sklearn.metrics import confusion_matrix\n",
    "import pandas as pd\n",
    "import numpy as np\n",
    "from scipy.special import gamma"
   ]
  },
  {
   "attachments": {},
   "cell_type": "markdown",
   "id": "9768ff22",
   "metadata": {},
   "source": [
    "Red 2"
   ]
  },
  {
   "cell_type": "code",
   "execution_count": 229,
   "id": "d060c089",
   "metadata": {},
   "outputs": [],
   "source": [
    "# Cargar datos\n",
    "df = pd.read_csv(\"Titanic.csv\")"
   ]
  },
  {
   "cell_type": "code",
   "execution_count": 230,
   "id": "c455a34d",
   "metadata": {},
   "outputs": [],
   "source": [
    "# Realiza una limpieza básica de datos\n",
    "df = df.drop(['PassengerId', 'Name', 'Ticket', 'Cabin'], axis=1)  # Elimina columnas no importantes\n",
    "df = df.dropna()  # Elimina filas con valores perdidos"
   ]
  },
  {
   "cell_type": "code",
   "execution_count": 231,
   "id": "a7c2e5f2",
   "metadata": {},
   "outputs": [],
   "source": [
    "# Crea variables dummy para las columnas categóricas\n",
    "df = pd.get_dummies(df, columns=['Sex', 'Embarked'])"
   ]
  },
  {
   "cell_type": "code",
   "execution_count": 232,
   "id": "3778dfce",
   "metadata": {},
   "outputs": [],
   "source": [
    "X = df.drop('Survived', axis=1)"
   ]
  },
  {
   "cell_type": "code",
   "execution_count": 233,
   "id": "a9e1da55",
   "metadata": {},
   "outputs": [],
   "source": [
    "y = df['Survived']"
   ]
  },
  {
   "cell_type": "code",
   "execution_count": 234,
   "id": "c29d0b37",
   "metadata": {},
   "outputs": [],
   "source": [
    "X_train, X_test, y_train, y_test = train_test_split(X, y, test_size=0.2, random_state=0)"
   ]
  },
  {
   "cell_type": "code",
   "execution_count": 235,
   "id": "41c8da51",
   "metadata": {},
   "outputs": [],
   "source": [
    "def mitle(t, alpha, beta):\n",
    "    s=0\n",
    "    for i in range(100):\n",
    "        s+=(t**i)/gamma(alpha*i+beta)\n",
    "    return s"
   ]
  },
  {
   "cell_type": "code",
   "execution_count": 236,
   "id": "9811e0fb",
   "metadata": {},
   "outputs": [],
   "source": [
    "def nsig(x,a,b):\n",
    "    y=1/(1+mitle(-x,a,b))\n",
    "    return y"
   ]
  },
  {
   "cell_type": "code",
   "execution_count": 237,
   "id": "d38b768b",
   "metadata": {},
   "outputs": [],
   "source": [
    "# Entrena un modelo de regresión logística utilizando la función logística personalizada\n",
    "theta = np.zeros(X_train.shape[1]) #Vector de 10 elementos\n",
    "alpha = 0.01\n",
    "num_iters = 2"
   ]
  },
  {
   "cell_type": "code",
   "execution_count": 238,
   "id": "39224a4f",
   "metadata": {},
   "outputs": [],
   "source": [
    "for i in range(0,num_iters):\n",
    "    z = np.dot(X_train, theta)\n",
    "    t=np.ones(568)\n",
    "    for i in range (0,568):\n",
    "        t[i]=z[i]\n",
    "        t[i]=nsig(t[i],.1,.1)\n",
    "    gradient = np.dot(X_train.T, (t - y_train)) / y_train.size\n",
    "    theta = theta - alpha * gradient"
   ]
  },
  {
   "cell_type": "code",
   "execution_count": 239,
   "id": "4bcdde06",
   "metadata": {},
   "outputs": [
    {
     "data": {
      "text/plain": [
       "array([-0.0053324699171172765, -0.04491643535208957,\n",
       "       -0.0006537163729990678, 0.0005094318912791875, 0.10707883618190822,\n",
       "       0.0021147581426107197, -0.003276910717804095,\n",
       "       0.0005868241531301701, -0.00013921573689263975,\n",
       "       -0.0016097609914309], dtype=object)"
      ]
     },
     "execution_count": 239,
     "metadata": {},
     "output_type": "execute_result"
    }
   ],
   "source": [
    "theta"
   ]
  },
  {
   "cell_type": "code",
   "execution_count": 240,
   "id": "55a678f4",
   "metadata": {},
   "outputs": [],
   "source": [
    "# Realiza predicciones en el conjunto de prueba\n",
    "z1 = np.dot(X_test, theta)\n",
    "t1=np.ones(143)\n",
    "for i in range (0,143):\n",
    "    t1[i]=z1[i]\n",
    "    t1[i]=nsig(t1[i],.1,.1)\n",
    "X_pred = np.round(t1)"
   ]
  },
  {
   "cell_type": "code",
   "execution_count": 241,
   "id": "771d9557",
   "metadata": {},
   "outputs": [],
   "source": [
    "X_pred=np.abs(X_pred)"
   ]
  },
  {
   "cell_type": "code",
   "execution_count": 242,
   "id": "90a84303",
   "metadata": {},
   "outputs": [],
   "source": [
    "cm = confusion_matrix(y_test, X_pred)\n",
    "accuracy = np.trace(cm) / np.sum(cm)"
   ]
  },
  {
   "cell_type": "code",
   "execution_count": 243,
   "id": "c4442ac4",
   "metadata": {},
   "outputs": [
    {
     "name": "stdout",
     "output_type": "stream",
     "text": [
      "Matriz de confusión:\n",
      "[[33 47]\n",
      " [35 28]]\n",
      "Porcentaje de precisión: 0.42657342657342656\n"
     ]
    }
   ],
   "source": [
    "# Imprime los resultados\n",
    "print('Matriz de confusión:')\n",
    "print(cm)\n",
    "print('Porcentaje de precisión:', accuracy)"
   ]
  },
  {
   "cell_type": "code",
   "execution_count": null,
   "id": "67d52040",
   "metadata": {},
   "outputs": [],
   "source": []
  }
 ],
 "metadata": {
  "kernelspec": {
   "display_name": "Python 3 (ipykernel)",
   "language": "python",
   "name": "python3"
  },
  "language_info": {
   "codemirror_mode": {
    "name": "ipython",
    "version": 3
   },
   "file_extension": ".py",
   "mimetype": "text/x-python",
   "name": "python",
   "nbconvert_exporter": "python",
   "pygments_lexer": "ipython3",
   "version": "3.11.3"
  }
 },
 "nbformat": 4,
 "nbformat_minor": 5
}
