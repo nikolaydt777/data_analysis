{
 "cells": [
  {
   "cell_type": "markdown",
   "id": "6f68cd2f",
   "metadata": {},
   "source": [
    "Titanic utilizando un algoritmo de clasificación de árbol de decisión en Python. Para ello, utilizaremos la biblioteca de aprendizaje automático scikit-learn"
   ]
  },
  {
   "cell_type": "code",
   "execution_count": 1,
   "id": "8ec36e3d",
   "metadata": {},
   "outputs": [
    {
     "ename": "ModuleNotFoundError",
     "evalue": "No module named 'pandas'",
     "output_type": "error",
     "traceback": [
      "\u001b[0;31m---------------------------------------------------------------------------\u001b[0m",
      "\u001b[0;31mModuleNotFoundError\u001b[0m                       Traceback (most recent call last)",
      "Cell \u001b[0;32mIn[1], line 1\u001b[0m\n\u001b[0;32m----> 1\u001b[0m \u001b[39mimport\u001b[39;00m \u001b[39mpandas\u001b[39;00m \u001b[39mas\u001b[39;00m \u001b[39mpd\u001b[39;00m\n\u001b[1;32m      2\u001b[0m \u001b[39mfrom\u001b[39;00m \u001b[39msklearn\u001b[39;00m\u001b[39m.\u001b[39;00m\u001b[39mtree\u001b[39;00m \u001b[39mimport\u001b[39;00m DecisionTreeClassifier\n\u001b[1;32m      3\u001b[0m \u001b[39mfrom\u001b[39;00m \u001b[39msklearn\u001b[39;00m\u001b[39m.\u001b[39;00m\u001b[39mmetrics\u001b[39;00m \u001b[39mimport\u001b[39;00m accuracy_score\n",
      "\u001b[0;31mModuleNotFoundError\u001b[0m: No module named 'pandas'"
     ]
    }
   ],
   "source": [
    "import pandas as pd\n",
    "from sklearn.tree import DecisionTreeClassifier\n",
    "from sklearn.metrics import accuracy_score\n",
    "from sklearn.model_selection import train_test_split"
   ]
  },
  {
   "cell_type": "code",
   "execution_count": null,
   "id": "4165ae0b",
   "metadata": {},
   "outputs": [],
   "source": [
    "# Cargar datos\n",
    "titanic_data = pd.read_csv(\"./data/Titanic.csv\")"
   ]
  },
  {
   "cell_type": "code",
   "execution_count": null,
   "id": "71ddfb20",
   "metadata": {},
   "outputs": [],
   "source": [
    "# Preprocesamiento de datos\n",
    "titanic_data.drop(['PassengerId', 'Name', 'Ticket', 'Cabin'], axis=1, inplace=True)\n",
    "titanic_data['Age'].fillna(titanic_data['Age'].mean(), inplace=True)\n",
    "titanic_data['Embarked'].fillna('S', inplace=True)\n",
    "titanic_data = pd.get_dummies(titanic_data, columns=['Sex', 'Embarked'])"
   ]
  },
  {
   "cell_type": "code",
   "execution_count": 4,
   "id": "58486d5a",
   "metadata": {},
   "outputs": [
    {
     "name": "stdout",
     "output_type": "stream",
     "text": [
      "<class 'pandas.core.frame.DataFrame'>\n",
      "RangeIndex: 711 entries, 0 to 710\n",
      "Data columns (total 11 columns):\n",
      " #   Column      Non-Null Count  Dtype  \n",
      "---  ------      --------------  -----  \n",
      " 0   Survived    711 non-null    int64  \n",
      " 1   Pclass      711 non-null    int64  \n",
      " 2   Age         711 non-null    float64\n",
      " 3   SibSp       711 non-null    int64  \n",
      " 4   Parch       711 non-null    int64  \n",
      " 5   Fare        711 non-null    float64\n",
      " 6   Sex_female  711 non-null    uint8  \n",
      " 7   Sex_male    711 non-null    uint8  \n",
      " 8   Embarked_C  711 non-null    uint8  \n",
      " 9   Embarked_Q  711 non-null    uint8  \n",
      " 10  Embarked_S  711 non-null    uint8  \n",
      "dtypes: float64(2), int64(4), uint8(5)\n",
      "memory usage: 36.9 KB\n"
     ]
    }
   ],
   "source": [
    "titanic_data.info()"
   ]
  },
  {
   "cell_type": "code",
   "execution_count": 5,
   "id": "05ee803e",
   "metadata": {},
   "outputs": [],
   "source": [
    "# Separar en datos de entrenamiento y prueba\n",
    "X_train, X_test, y_train, y_test = train_test_split(\n",
    "    titanic_data.drop('Survived', axis=1), titanic_data['Survived'], test_size=0.2, random_state=42)"
   ]
  },
  {
   "cell_type": "code",
   "execution_count": 6,
   "id": "5dc59bbf",
   "metadata": {},
   "outputs": [],
   "source": [
    "# Crear modelo de árbol de decisión\n",
    "clf = DecisionTreeClassifier(max_depth=10)"
   ]
  },
  {
   "cell_type": "code",
   "execution_count": 7,
   "id": "fee09a69",
   "metadata": {},
   "outputs": [
    {
     "data": {
      "text/plain": [
       "DecisionTreeClassifier(max_depth=10)"
      ]
     },
     "execution_count": 7,
     "metadata": {},
     "output_type": "execute_result"
    }
   ],
   "source": [
    "# Entrenar modelo\n",
    "clf.fit(X_train, y_train)"
   ]
  },
  {
   "cell_type": "code",
   "execution_count": 8,
   "id": "85b847d1",
   "metadata": {},
   "outputs": [],
   "source": [
    "# Predecir en datos de prueba\n",
    "y_pred = clf.predict(X_test)"
   ]
  },
  {
   "cell_type": "code",
   "execution_count": null,
   "id": "86f53a04",
   "metadata": {},
   "outputs": [],
   "source": []
  },
  {
   "cell_type": "code",
   "execution_count": 9,
   "id": "87f03600",
   "metadata": {},
   "outputs": [
    {
     "name": "stdout",
     "output_type": "stream",
     "text": [
      "Precisión: 74.83%\n"
     ]
    }
   ],
   "source": [
    "# Evaluar modelo\n",
    "accuracy = accuracy_score(y_test, y_pred)\n",
    "#print(f'Precisión del modelo: {accuracy:.2f}')\n",
    "print(\"Precisión: {:.2f}%\".format(accuracy * 100))"
   ]
  },
  {
   "cell_type": "markdown",
   "id": "aeccac12",
   "metadata": {},
   "source": [
    "En este código primero cargamos los datos del Titanic y los preprocesamos de manera similar al ejemplo anterior. A continuación, separamos los datos en conjuntos de entrenamiento y prueba utilizando la función train_test_split de scikit-learn. Luego, creamos un modelo de árbol de decisión utilizando la clase DecisionTreeClassifier. Entrenamos el modelo utilizando los datos de entrenamiento y hacemos predicciones en los datos de prueba utilizando el método predict. Finalmente, evaluamos la precisión del modelo utilizando la función accuracy_score."
   ]
  },
  {
   "cell_type": "code",
   "execution_count": null,
   "id": "3c43dab7",
   "metadata": {},
   "outputs": [],
   "source": []
  }
 ],
 "metadata": {
  "kernelspec": {
   "display_name": "Python 3 (ipykernel)",
   "language": "python",
   "name": "python3"
  },
  "language_info": {
   "codemirror_mode": {
    "name": "ipython",
    "version": 3
   },
   "file_extension": ".py",
   "mimetype": "text/x-python",
   "name": "python",
   "nbconvert_exporter": "python",
   "pygments_lexer": "ipython3",
   "version": "3.10.10"
  }
 },
 "nbformat": 4,
 "nbformat_minor": 5
}
