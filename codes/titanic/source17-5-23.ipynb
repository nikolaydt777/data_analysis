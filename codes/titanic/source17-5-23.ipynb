{
 "cells": [
  {
   "cell_type": "code",
   "execution_count": 59,
   "metadata": {},
   "outputs": [],
   "source": [
    "# Codigo fuente para DA ver 17-5-23"
   ]
  },
  {
   "attachments": {},
   "cell_type": "markdown",
   "metadata": {},
   "source": [
    "# Codigo fuente para hacer DA"
   ]
  },
  {
   "cell_type": "code",
   "execution_count": 60,
   "metadata": {},
   "outputs": [],
   "source": [
    "# paquetes\n",
    "import pandas as pd\n",
    "from sklearn.model_selection import train_test_split\n",
    "from sklearn.tree import DecisionTreeClassifier\n",
    "from sklearn.metrics import confusion_matrix, accuracy_score\n",
    "import matplotlib.pyplot as plt\n",
    "#from sklearn.model_selection import train_test_split\n",
    "from sklearn.linear_model import LogisticRegression\n",
    "#from sklearn.tree import DecisionTreeClassifier\n",
    "#from sklearn.metrics import accuracy_score, confusion_matrix"
   ]
  },
  {
   "cell_type": "code",
   "execution_count": 61,
   "metadata": {},
   "outputs": [],
   "source": [
    "    # Cargar datos\n",
    "titanic_data = pd.read_csv(\"./data/Titanic.csv\")\n",
    "#----------\n",
    "    # lectura de datos en Python si hay mas de uno\n",
    "#train = pd.read_csv('./train.csv')\n",
    "#test = pd.read_csv('./test.csv')"
   ]
  },
  {
   "cell_type": "code",
   "execution_count": 62,
   "metadata": {},
   "outputs": [
    {
     "data": {
      "text/html": [
       "<div>\n",
       "<style scoped>\n",
       "    .dataframe tbody tr th:only-of-type {\n",
       "        vertical-align: middle;\n",
       "    }\n",
       "\n",
       "    .dataframe tbody tr th {\n",
       "        vertical-align: top;\n",
       "    }\n",
       "\n",
       "    .dataframe thead th {\n",
       "        text-align: right;\n",
       "    }\n",
       "</style>\n",
       "<table border=\"1\" class=\"dataframe\">\n",
       "  <thead>\n",
       "    <tr style=\"text-align: right;\">\n",
       "      <th></th>\n",
       "      <th>PassengerId</th>\n",
       "      <th>Survived</th>\n",
       "      <th>Pclass</th>\n",
       "      <th>Age</th>\n",
       "      <th>SibSp</th>\n",
       "      <th>Parch</th>\n",
       "      <th>Fare</th>\n",
       "    </tr>\n",
       "    <tr>\n",
       "      <th>Sex</th>\n",
       "      <th></th>\n",
       "      <th></th>\n",
       "      <th></th>\n",
       "      <th></th>\n",
       "      <th></th>\n",
       "      <th></th>\n",
       "      <th></th>\n",
       "    </tr>\n",
       "  </thead>\n",
       "  <tbody>\n",
       "    <tr>\n",
       "      <th>female</th>\n",
       "      <td>439.829457</td>\n",
       "      <td>0.751938</td>\n",
       "      <td>2.077519</td>\n",
       "      <td>27.682171</td>\n",
       "      <td>0.647287</td>\n",
       "      <td>0.713178</td>\n",
       "      <td>47.291167</td>\n",
       "    </tr>\n",
       "    <tr>\n",
       "      <th>male</th>\n",
       "      <td>453.412804</td>\n",
       "      <td>0.205298</td>\n",
       "      <td>2.335541</td>\n",
       "      <td>30.726645</td>\n",
       "      <td>0.439294</td>\n",
       "      <td>0.271523</td>\n",
       "      <td>27.268836</td>\n",
       "    </tr>\n",
       "  </tbody>\n",
       "</table>\n",
       "</div>"
      ],
      "text/plain": [
       "        PassengerId  Survived    Pclass        Age     SibSp     Parch   \n",
       "Sex                                                                      \n",
       "female   439.829457  0.751938  2.077519  27.682171  0.647287  0.713178  \\\n",
       "male     453.412804  0.205298  2.335541  30.726645  0.439294  0.271523   \n",
       "\n",
       "             Fare  \n",
       "Sex                \n",
       "female  47.291167  \n",
       "male    27.268836  "
      ]
     },
     "execution_count": 62,
     "metadata": {},
     "output_type": "execute_result"
    }
   ],
   "source": [
    "# Analisis de la data\n",
    "    #titanic_data\n",
    "titanic_data.head()\n",
    "#titanic_data.info()\n",
    "#titanic_data.columns\n",
    "    # ---------\n",
    "    # Estaidstica\n",
    "    # ---------\n",
    "#titanic[\"Age\"].mean()\n",
    "#titanic[[\"Age\", \"Fare\"]].median()\n",
    "#titanic_data.describe()\n",
    "    #Aggregating statistics grouped by category\n",
    "titanic_data[[\"Sex\", \"Age\"]].groupby(\"Sex\").mean()\n",
    "#titanic.groupby(\"Sex\")[\"Age\"].mean()\n",
    "titanic_data.groupby(\"Sex\").mean(numeric_only=True)\n",
    "#titanic.groupby([\"Sex\", \"Pclass\"])[\"Fare\"].mean()\n",
    "# ---------\n",
    "\n",
    "#What is the number of passengers in each of the cabin classes?\n",
    "#titanic[\"Pclass\"].value_counts()\n",
    "\n",
    "# ---------\n",
    "    # Algo de estadistica manual\n",
    "#women = titanic_data.loc[df.Sex == 'female'][\"Survived\"]\n",
    "#rate_women = sum(women)/len(women)\n",
    "#print(\"% of women who survived:\", rate_women)"
   ]
  },
  {
   "cell_type": "code",
   "execution_count": 63,
   "metadata": {},
   "outputs": [],
   "source": [
    "# Convertimos valores textuales a numéricos\n",
    "#titanic_data[\"Sex\"] = pd.factorize(titanic_data[\"Sex\"])[0]\n",
    "#titanic_data[\"Embarked\"] = pd.factorize(#titanic_data[\"Embarked\"])[0]"
   ]
  },
  {
   "cell_type": "code",
   "execution_count": 64,
   "metadata": {},
   "outputs": [],
   "source": [
    "    # DIBUJOS 1\n",
    "# Tomamos par de datos\n",
    "#titanic_data[['Survived','Age']].head()\n",
    "#titanic_data.plot.scatter(x='Survived',y='Age')\n",
    "#plt.show()"
   ]
  },
  {
   "cell_type": "code",
   "execution_count": 65,
   "metadata": {},
   "outputs": [],
   "source": [
    "# Preprocesamiento de datos\n",
    "#-----------\n",
    "# Realiza una limpieza básica de datos\n",
    "    #titanic_data.drop(['PassengerId', 'Name', 'Ticket', 'Cabin'], axis=1, inplace=True)\n",
    "    #titanic_data['Age'].fillna(titanic_data['Age'].mean(), inplace=True)\n",
    "    #titanic_data['Embarked'].fillna('S', inplace=True)\n",
    "#-----------\n",
    "# Crea variables dummy para las columnas categóricas\n",
    "    #titanic_data = pd.get_dummies(titanic_data, columns=['Sex', 'Embarked'])"
   ]
  },
  {
   "cell_type": "code",
   "execution_count": 66,
   "metadata": {},
   "outputs": [],
   "source": [
    "# Eliminamos columnas no relevantes para el análisis\n",
    "#titanic_data= titanic_data.drop(columns=[\"PassengerId\", \"Name\", \"Ticket\", \"Cabin\"])"
   ]
  },
  {
   "cell_type": "code",
   "execution_count": 67,
   "metadata": {},
   "outputs": [],
   "source": [
    "# Rellenamos valores faltantes con la media\n",
    "#titanic_data[\"Age\"] = titanic_data[\"Age\"].fillna(df[\"Age\"].mean())"
   ]
  },
  {
   "cell_type": "code",
   "execution_count": 68,
   "metadata": {},
   "outputs": [],
   "source": [
    "# Divide los datos en variables independientes y dependiente\n",
    "#X = data.drop(['Survived'], axis=1)\n",
    "#y = data['Survived']\n",
    "#-----------\n",
    "# Divide los datos en conjuntos de entrenamiento y prueba\n",
    "#X_train, X_test, y_train, y_test = train_test_split(X, y, test_size=0.3, random_state=42)\n",
    "#-----------\n",
    "# Separar en datos de entrenamiento y prueba\n",
    "#X_train, X_test, y_train, y_test = train_test_split(\n",
    "#    titanic_data.drop('Survived', axis=1), titanic_data['Survived'], test_size=0.2, random_state=42)"
   ]
  },
  {
   "attachments": {},
   "cell_type": "markdown",
   "metadata": {},
   "source": [
    "# Entrenamiento"
   ]
  },
  {
   "cell_type": "code",
   "execution_count": null,
   "metadata": {},
   "outputs": [],
   "source": [
    "# Entrena un modelo de regresión logística\n",
    "#model = LogisticRegression()\n",
    "#model.fit(X_train, y_train)#"
   ]
  }
 ],
 "metadata": {
  "kernelspec": {
   "display_name": "Python 3",
   "language": "python",
   "name": "python3"
  },
  "language_info": {
   "codemirror_mode": {
    "name": "ipython",
    "version": 3
   },
   "file_extension": ".py",
   "mimetype": "text/x-python",
   "name": "python",
   "nbconvert_exporter": "python",
   "pygments_lexer": "ipython3",
   "version": "3.11.3"
  },
  "orig_nbformat": 4
 },
 "nbformat": 4,
 "nbformat_minor": 2
}
