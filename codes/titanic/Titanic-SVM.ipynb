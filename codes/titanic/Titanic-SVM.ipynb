{
 "cells": [
  {
   "cell_type": "markdown",
   "id": "71fabffb",
   "metadata": {},
   "source": [
    "SVM para predecir la supervivencia en el Titanic en Python, utilizando la biblioteca scikit-learn"
   ]
  },
  {
   "cell_type": "code",
   "execution_count": 9,
   "id": "6e8706d4",
   "metadata": {},
   "outputs": [],
   "source": [
    "import pandas as pd\n",
    "from sklearn.svm import SVC\n",
    "from sklearn.metrics import accuracy_score\n",
    "from sklearn.model_selection import train_test_split\n",
    "from sklearn.preprocessing import StandardScaler\n",
    "import matplotlib.pyplot as plt"
   ]
  },
  {
   "cell_type": "code",
   "execution_count": 17,
   "id": "3ce0dd08",
   "metadata": {},
   "outputs": [],
   "source": [
    "# Cargar datos\n",
    "titanic_data = pd.read_csv(\"./data/Titanic.csv\")"
   ]
  },
  {
   "cell_type": "code",
   "execution_count": 18,
   "id": "13051bdd",
   "metadata": {},
   "outputs": [
    {
     "name": "stdout",
     "output_type": "stream",
     "text": [
      "<class 'pandas.core.frame.DataFrame'>\n",
      "RangeIndex: 711 entries, 0 to 710\n",
      "Data columns (total 12 columns):\n",
      " #   Column       Non-Null Count  Dtype  \n",
      "---  ------       --------------  -----  \n",
      " 0   PassengerId  711 non-null    int64  \n",
      " 1   Survived     711 non-null    int64  \n",
      " 2   Pclass       711 non-null    int64  \n",
      " 3   Name         711 non-null    object \n",
      " 4   Sex          711 non-null    object \n",
      " 5   Age          711 non-null    float64\n",
      " 6   SibSp        711 non-null    int64  \n",
      " 7   Parch        711 non-null    int64  \n",
      " 8   Ticket       711 non-null    object \n",
      " 9   Fare         711 non-null    float64\n",
      " 10  Cabin        182 non-null    object \n",
      " 11  Embarked     711 non-null    object \n",
      "dtypes: float64(2), int64(5), object(5)\n",
      "memory usage: 66.8+ KB\n"
     ]
    }
   ],
   "source": [
    "titanic_data.info()"
   ]
  },
  {
   "cell_type": "code",
   "execution_count": 19,
   "id": "3b8006de",
   "metadata": {},
   "outputs": [],
   "source": [
    "# Preprocesamiento de datos\n",
    "titanic_data.drop(['PassengerId', 'Name', 'Ticket', 'Cabin'], axis=1, inplace=True)\n",
    "titanic_data['Age'].fillna(titanic_data['Age'].mean(), inplace=True)\n",
    "titanic_data['Embarked'].fillna('S', inplace=True)\n",
    "titanic_data = pd.get_dummies(titanic_data, columns=['Sex', 'Embarked'])"
   ]
  },
  {
   "cell_type": "code",
   "execution_count": 20,
   "id": "ee2323bb",
   "metadata": {},
   "outputs": [],
   "source": [
    "# Escalado de características\n",
    "scaler = StandardScaler()\n",
    "X = scaler.fit_transform(titanic_data.drop('Survived', axis=1))"
   ]
  },
  {
   "cell_type": "code",
   "execution_count": 21,
   "id": "1c390f30",
   "metadata": {},
   "outputs": [],
   "source": [
    "# Separar en datos de entrenamiento y prueba\n",
    "X_train, X_test, y_train, y_test = train_test_split(\n",
    "    X, titanic_data['Survived'], test_size=0.2, random_state=42)"
   ]
  },
  {
   "cell_type": "code",
   "execution_count": 22,
   "id": "0314bbd8",
   "metadata": {},
   "outputs": [],
   "source": [
    "# Crear modelo SVM\n",
    "clf = SVC(kernel='rbf', C=1, gamma='scale')"
   ]
  },
  {
   "cell_type": "code",
   "execution_count": 23,
   "id": "3ddb1ed1",
   "metadata": {},
   "outputs": [
    {
     "data": {
      "text/plain": [
       "SVC(C=1)"
      ]
     },
     "execution_count": 23,
     "metadata": {},
     "output_type": "execute_result"
    }
   ],
   "source": [
    "# Entrenar modelo\n",
    "clf.fit(X_train, y_train)"
   ]
  },
  {
   "cell_type": "code",
   "execution_count": 24,
   "id": "56d07872",
   "metadata": {},
   "outputs": [],
   "source": [
    "# Predecir en datos de prueba\n",
    "y_pred = clf.predict(X_test)"
   ]
  },
  {
   "cell_type": "code",
   "execution_count": 25,
   "id": "04a13a55",
   "metadata": {},
   "outputs": [
    {
     "name": "stdout",
     "output_type": "stream",
     "text": [
      "Precisión del modelo: 0.81\n"
     ]
    }
   ],
   "source": [
    "# Evaluar modelo\n",
    "accuracy = accuracy_score(y_test, y_pred)\n",
    "print(f'Precisión del modelo: {accuracy:.2f}')"
   ]
  },
  {
   "cell_type": "markdown",
   "id": "3fb373f3",
   "metadata": {},
   "source": [
    "Al igual que en los ejemplos anteriores, primero cargamos y preprocesamos los datos del Titanic. En este caso, además de crear variables dummy para las características categóricas, utilizamos la técnica de escalado de características con StandardScaler para normalizar los datos numéricos.\n",
    "\n",
    "Luego, dividimos los datos en conjuntos de entrenamiento y prueba utilizando la función train_test_split. Después, creamos un modelo SVM utilizando la clase SVC con un kernel radial y un parámetro de regularización C igual a 1. Entrenamos el modelo con los datos de entrenamiento y hacemos predicciones en los datos de prueba utilizando el método predict. Finalmente, evaluamos la precisión del modelo utilizando la función accury-score"
   ]
  },
  {
   "cell_type": "code",
   "execution_count": null,
   "id": "38d45c21",
   "metadata": {},
   "outputs": [],
   "source": []
  }
 ],
 "metadata": {
  "kernelspec": {
   "display_name": "Python 3 (ipykernel)",
   "language": "python",
   "name": "python3"
  },
  "language_info": {
   "codemirror_mode": {
    "name": "ipython",
    "version": 3
   },
   "file_extension": ".py",
   "mimetype": "text/x-python",
   "name": "python",
   "nbconvert_exporter": "python",
   "pygments_lexer": "ipython3",
   "version": "3.11.3"
  }
 },
 "nbformat": 4,
 "nbformat_minor": 5
}
