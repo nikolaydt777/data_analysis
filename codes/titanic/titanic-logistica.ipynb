{
 "cells": [
  {
   "cell_type": "code",
   "execution_count": 1,
   "id": "f3b31aef",
   "metadata": {},
   "outputs": [],
   "source": [
    "import pandas as pd\n",
    "import numpy as np\n",
    "from sklearn.linear_model import LogisticRegression\n",
    "from sklearn.model_selection import train_test_split\n",
    "from sklearn.metrics import confusion_matrix"
   ]
  },
  {
   "cell_type": "code",
   "execution_count": 2,
   "id": "1a58d265",
   "metadata": {},
   "outputs": [],
   "source": [
    "# Cargar datos\n",
    "df = pd.read_csv(\"./data/Titanic.csv\")"
   ]
  },
  {
   "cell_type": "code",
   "execution_count": 3,
   "id": "7eb72b54",
   "metadata": {},
   "outputs": [],
   "source": [
    "# Realiza una limpieza básica de datos\n",
    "df = df.drop(['PassengerId', 'Name', 'Ticket', 'Cabin'], axis=1)  # Elimina columnas no importantes\n",
    "df = df.dropna()  # Elimina filas con valores perdidos"
   ]
  },
  {
   "cell_type": "code",
   "execution_count": 4,
   "id": "4c7629c3",
   "metadata": {},
   "outputs": [],
   "source": [
    "# Crea variables dummy para las columnas categóricas\n",
    "df = pd.get_dummies(df, columns=['Sex', 'Embarked'])"
   ]
  },
  {
   "cell_type": "code",
   "execution_count": 5,
   "id": "8be3ab96",
   "metadata": {},
   "outputs": [],
   "source": [
    "# Divide los datos en entrenamiento y prueba\n",
    "X = df.drop('Survived', axis=1)\n",
    "y = df['Survived']\n",
    "X_train, X_test, y_train, y_test = train_test_split(X, y, test_size=0.2, random_state=0)"
   ]
  },
  {
   "cell_type": "code",
   "execution_count": 6,
   "id": "7126ac15",
   "metadata": {},
   "outputs": [
    {
     "name": "stderr",
     "output_type": "stream",
     "text": [
      "/Users/nicoditeodoro/anaconda3/lib/python3.10/site-packages/sklearn/linear_model/_logistic.py:814: ConvergenceWarning: lbfgs failed to converge (status=1):\n",
      "STOP: TOTAL NO. of ITERATIONS REACHED LIMIT.\n",
      "\n",
      "Increase the number of iterations (max_iter) or scale the data as shown in:\n",
      "    https://scikit-learn.org/stable/modules/preprocessing.html\n",
      "Please also refer to the documentation for alternative solver options:\n",
      "    https://scikit-learn.org/stable/modules/linear_model.html#logistic-regression\n",
      "  n_iter_i = _check_optimize_result(\n"
     ]
    },
    {
     "data": {
      "text/plain": [
       "LogisticRegression()"
      ]
     },
     "execution_count": 6,
     "metadata": {},
     "output_type": "execute_result"
    }
   ],
   "source": [
    "# Entrena un modelo de regresión logística\n",
    "model = LogisticRegression()\n",
    "model.fit(X_train, y_train)"
   ]
  },
  {
   "cell_type": "code",
   "execution_count": 7,
   "id": "e7c2ecca",
   "metadata": {},
   "outputs": [],
   "source": [
    "# Realiza predicciones en el conjunto de prueba\n",
    "y_pred = model.predict(X_test)"
   ]
  },
  {
   "cell_type": "code",
   "execution_count": 8,
   "id": "a04a3118",
   "metadata": {},
   "outputs": [],
   "source": [
    "# Calcula la matriz de confusión y el porcentaje de precisión\n",
    "cm = confusion_matrix(y_test, y_pred)\n",
    "accuracy = np.trace(cm) / np.sum(cm)"
   ]
  },
  {
   "cell_type": "code",
   "execution_count": 9,
   "id": "aae9c9a9",
   "metadata": {},
   "outputs": [
    {
     "name": "stdout",
     "output_type": "stream",
     "text": [
      "Matriz de confusión:\n",
      "[[71  9]\n",
      " [17 46]]\n",
      "Porcentaje de precisión: 0.8181818181818182\n"
     ]
    }
   ],
   "source": [
    "# Imprime los resultados\n",
    "print('Matriz de confusión:')\n",
    "print(cm)\n",
    "print('Porcentaje de precisión:', accuracy)"
   ]
  },
  {
   "cell_type": "code",
   "execution_count": 10,
   "id": "2fbd3a11",
   "metadata": {},
   "outputs": [],
   "source": [
    "# Grafica los datos y la recta de predicción\n",
    "import matplotlib.pyplot as plt"
   ]
  },
  {
   "cell_type": "markdown",
   "id": "5eef3e67",
   "metadata": {},
   "source": [
    "x_min, x_max = X.iloc[:, 0].min() - 1, X.iloc[:, 0].max() + 1\n",
    "y_min, y_max = X.iloc[:, 1].min() - 1, X.iloc[:, 1].max() + 1\n",
    "xx, yy = np.meshgrid(np.arange(x_min, x_max, 0.1), np.arange(y_min, y_max, 0.1))\n",
    "Z = model.predict(np.c_[xx.ravel(), yy.ravel()])\n",
    "Z = Z.reshape(xx.shape)\n",
    "plt.contourf(xx, yy, Z, alpha=0.4)\n",
    "plt.scatter(X.iloc[:, 0], X.iloc[:, 1], c=y, s=20, edgecolor='k')\n",
    "plt.xlabel('Age')\n",
    "plt.ylabel('Fare')\n",
    "plt.title('Predicciones de supervivencia del Titanic')\n",
    "plt.show()"
   ]
  },
  {
   "cell_type": "code",
   "execution_count": 11,
   "id": "ddd95f58",
   "metadata": {},
   "outputs": [
    {
     "ename": "SyntaxError",
     "evalue": "invalid syntax (2773894192.py, line 1)",
     "output_type": "error",
     "traceback": [
      "\u001b[0;36m  Cell \u001b[0;32mIn[11], line 1\u001b[0;36m\u001b[0m\n\u001b[0;31m    Este código realiza lo siguiente:\u001b[0m\n\u001b[0m         ^\u001b[0m\n\u001b[0;31mSyntaxError\u001b[0m\u001b[0;31m:\u001b[0m invalid syntax\n"
     ]
    }
   ],
   "source": [
    "Este código realiza lo siguiente:\n",
    "\n",
    "Lee los datos del archivo CSV y realiza una limpieza básica de datos, eliminando columnas no importantes y filas con valores perdidos.\n",
    "Crea variables dummy para las columnas categóricas.\n",
    "Divide los datos en un conjunto de entrenamiento y un conjunto de prueba.\n",
    "Entrena un modelo de regresión logística en el conjunto de entrenamiento.\n",
    "Realiza predicciones en el conjunto de prueba.\n",
    "Calcula la matriz de confusión y el porcentaje de precisión.\n",
    "Grafica los"
   ]
  }
 ],
 "metadata": {
  "kernelspec": {
   "display_name": "Python 3 (ipykernel)",
   "language": "python",
   "name": "python3"
  },
  "language_info": {
   "codemirror_mode": {
    "name": "ipython",
    "version": 3
   },
   "file_extension": ".py",
   "mimetype": "text/x-python",
   "name": "python",
   "nbconvert_exporter": "python",
   "pygments_lexer": "ipython3",
   "version": "3.10.9"
  }
 },
 "nbformat": 4,
 "nbformat_minor": 5
}
